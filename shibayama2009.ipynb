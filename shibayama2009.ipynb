{
 "cells": [
  {
   "cell_type": "code",
   "execution_count": 1,
   "metadata": {},
   "outputs": [],
   "source": [
    "import sympy\n",
    "import Hamilton\n",
    "import Birkhoff\n",
    "sympy.init_printing()"
   ]
  },
  {
   "cell_type": "code",
   "execution_count": 2,
   "metadata": {},
   "outputs": [],
   "source": [
    "x = sympy.IndexedBase(\"x\")\n",
    "y = sympy.IndexedBase(\"y\")\n",
    "p = sympy.IndexedBase(\"p\")\n",
    "q = sympy.IndexedBase(\"q\")\n",
    "t = sympy.IndexedBase(\"tau\")\n",
    "o = sympy.Symbol(\"omega\", positive=True)\n",
    "a = sympy.Symbol(\"alpha\", positive=True)\n",
    "b = sympy.Symbol(\"beta\")\n",
    "l = sympy.Symbol(\"lambda\", positive=True)"
   ]
  },
  {
   "cell_type": "markdown",
   "metadata": {},
   "source": [
    "First, create your Hamiltonian"
   ]
  },
  {
   "cell_type": "code",
   "execution_count": 3,
   "metadata": {},
   "outputs": [
    {
     "data": {
      "image/png": "[encoded data removed]",
      "text/latex": [
       "$$\\frac{\\omega^{2}}{4 q_{1}^{2}} + \\frac{p_{1}^{2}}{4} - \\frac{2}{\\sqrt{q_{1}^{2} + q_{2}^{2}}} + \\frac{\\left(\\alpha + 2\\right) p_{2}^{2}}{4 \\alpha} - \\frac{1}{2 \\alpha q_{1}}$$"
      ],
      "text/plain": [
       "    2         2                                    2           \n",
       "   ω      p[1]            2            (α + 2)⋅p[2]       1    \n",
       "─────── + ───── - ────────────────── + ───────────── - ────────\n",
       "      2     4        _______________        4⋅α        2⋅α⋅q[1]\n",
       "4⋅q[1]              ╱     2       2                            \n",
       "                  ╲╱  q[1]  + q[2]                             "
      ]
     },
     "execution_count": 3,
     "metadata": {},
     "output_type": "execute_result"
    }
   ],
   "source": [
    "H = p[1]*p[1]/4 + o*o/4/q[1]/q[1] - 1/a/2/q[1] - 2/sympy.sqrt(q[1]*q[1]+q[2]*q[2]) + (a+2)*p[2]*p[2]/a/4; H"
   ]
  },
  {
   "cell_type": "markdown",
   "metadata": {},
   "source": [
    "Substitute Hamiltonian to a class `Hamiltonian`"
   ]
  },
  {
   "cell_type": "code",
   "execution_count": 4,
   "metadata": {},
   "outputs": [],
   "source": [
    "ham = Hamilton.Hamiltonian(H, [p[1],p[2]], [q[1],q[2]])"
   ]
  },
  {
   "cell_type": "markdown",
   "metadata": {},
   "source": [
    "Expand Hamiltonian around an equilibrium point"
   ]
  },
  {
   "cell_type": "code",
   "execution_count": 5,
   "metadata": {},
   "outputs": [
    {
     "data": {
      "image/png": "[encoded data removed]",
      "text/latex": [
       "$$\\frac{p_{1}^{2}}{4} + \\frac{\\left(\\alpha + 2\\right) p_{2}^{2}}{4 \\alpha} - \\frac{16 \\alpha^{2} + 8 \\alpha + 1}{4 \\alpha^{2} \\omega^{2}} + \\frac{\\left(4 \\alpha + 1\\right)^{3} q_{2}^{2}}{\\alpha^{3} \\omega^{6}} + \\frac{\\left(4 \\alpha + 1\\right)^{4} q_{1}^{2}}{4 \\alpha^{4} \\omega^{6}} - \\frac{3 \\left(4 \\alpha + 1\\right)^{4} q_{1} q_{2}^{2}}{\\alpha^{4} \\omega^{8}} + \\frac{\\left(- 4 \\alpha - 1\\right)^{5} q_{1}^{3}}{2 \\alpha^{5} \\omega^{8}} + \\frac{6 \\left(4 \\alpha + 1\\right)^{5} q_{1}^{2} q_{2}^{2}}{\\alpha^{5} \\omega^{10}} - \\frac{3 \\left(4 \\alpha + 1\\right)^{5} q_{2}^{4}}{4 \\alpha^{5} \\omega^{10}} + \\frac{3 \\left(4 \\alpha + 1\\right)^{6} q_{1}^{4}}{4 \\alpha^{6} \\omega^{10}}$$"
      ],
      "text/plain": [
       "    2               2       2                      3     2            4     2 \n",
       "p[1]    (α + 2)⋅p[2]    16⋅α  + 8⋅α + 1   (4⋅α + 1) ⋅q[2]    (4⋅α + 1) ⋅q[1]  \n",
       "───── + ───────────── - ─────────────── + ──────────────── + ──────────────── \n",
       "  4          4⋅α               2  2             3  6                4  6      \n",
       "                            4⋅α ⋅ω             α ⋅ω              4⋅α ⋅ω       \n",
       "\n",
       "             4          2             5     3              5     2     2      \n",
       "  3⋅(4⋅α + 1) ⋅q[1]⋅q[2]    (-4⋅α - 1) ⋅q[1]    6⋅(4⋅α + 1) ⋅q[1] ⋅q[2]    3⋅(\n",
       "- ─────────────────────── + ───────────────── + ──────────────────────── - ───\n",
       "            4  8                    5  8                  5  10               \n",
       "           α ⋅ω                  2⋅α ⋅ω                  α ⋅ω                 \n",
       "\n",
       "        5     4              6     4\n",
       "4⋅α + 1) ⋅q[2]    3⋅(4⋅α + 1) ⋅q[1] \n",
       "─────────────── + ──────────────────\n",
       "     5  10                6  10     \n",
       "  4⋅α ⋅ω               4⋅α ⋅ω       "
      ]
     },
     "execution_count": 5,
     "metadata": {},
     "output_type": "execute_result"
    }
   ],
   "source": [
    "equilibrium_points = [0, 0, o*o*a/(4*a+1), 0]\n",
    "ham.expand_around_equilibrium(equilibrium_points, max_degree=4)"
   ]
  },
  {
   "cell_type": "markdown",
   "metadata": {},
   "source": [
    "`rescale()` will rescale the coefficient of $p_i$ and $q_i$"
   ]
  },
  {
   "cell_type": "code",
   "execution_count": 6,
   "metadata": {},
   "outputs": [
    {
     "data": {
      "image/png": "[encoded data removed]",
      "text/latex": [
       "$$\\frac{1029 \\lambda^{2} p_{2}^{4}}{4 \\omega^{4} \\left(\\lambda^{2} - 8\\right)^{3}} + \\frac{1029 i \\lambda^{2} p_{2}^{3} q_{2}}{\\omega^{4} \\left(\\lambda^{2} - 8\\right)^{3}} - \\frac{3087 \\lambda^{2} p_{2}^{2} q_{2}^{2}}{2 \\omega^{4} \\left(\\lambda^{2} - 8\\right)^{3}} - \\frac{1029 i \\lambda^{2} p_{2} q_{2}^{3}}{\\omega^{4} \\left(\\lambda^{2} - 8\\right)^{3}} + \\frac{1029 \\lambda^{2} q_{2}^{4}}{4 \\omega^{4} \\left(\\lambda^{2} - 8\\right)^{3}} - \\frac{392 i \\lambda p_{2} q_{2}}{\\omega^{3} \\left(\\lambda^{2} - 8\\right)^{2}} + \\frac{294 \\lambda p_{1}^{2} p_{2}^{2}}{\\omega^{4} \\left(\\lambda^{2} - 8\\right)^{2}} + \\frac{588 i \\lambda p_{1}^{2} p_{2} q_{2}}{\\omega^{4} \\left(\\lambda^{2} - 8\\right)^{2}} - \\frac{294 \\lambda p_{1}^{2} q_{2}^{2}}{\\omega^{4} \\left(\\lambda^{2} - 8\\right)^{2}} + \\frac{588 i \\lambda p_{1} p_{2}^{2} q_{1}}{\\omega^{4} \\left(\\lambda^{2} - 8\\right)^{2}} - \\frac{1176 \\lambda p_{1} p_{2} q_{1} q_{2}}{\\omega^{4} \\left(\\lambda^{2} - 8\\right)^{2}} - \\frac{588 i \\lambda p_{1} q_{1} q_{2}^{2}}{\\omega^{4} \\left(\\lambda^{2} - 8\\right)^{2}} - \\frac{294 \\lambda p_{2}^{2} q_{1}^{2}}{\\omega^{4} \\left(\\lambda^{2} - 8\\right)^{2}} - \\frac{588 i \\lambda p_{2} q_{1}^{2} q_{2}}{\\omega^{4} \\left(\\lambda^{2} - 8\\right)^{2}} + \\frac{294 \\lambda q_{1}^{2} q_{2}^{2}}{\\omega^{4} \\left(\\lambda^{2} - 8\\right)^{2}} - \\frac{147 \\sqrt{2} i \\lambda p_{1} p_{2}^{2}}{\\omega^{\\frac{7}{2}} \\left(\\lambda^{2} - 8\\right)^{2}} + \\frac{294 \\sqrt{2} \\lambda p_{1} p_{2} q_{2}}{\\omega^{\\frac{7}{2}} \\left(\\lambda^{2} - 8\\right)^{2}} + \\frac{147 \\sqrt{2} i \\lambda p_{1} q_{2}^{2}}{\\omega^{\\frac{7}{2}} \\left(\\lambda^{2} - 8\\right)^{2}} + \\frac{147 \\sqrt{2} \\lambda p_{2}^{2} q_{1}}{\\omega^{\\frac{7}{2}} \\left(\\lambda^{2} - 8\\right)^{2}} + \\frac{294 \\sqrt{2} i \\lambda p_{2} q_{1} q_{2}}{\\omega^{\\frac{7}{2}} \\left(\\lambda^{2} - 8\\right)^{2}} - \\frac{147 \\sqrt{2} \\lambda q_{1} q_{2}^{2}}{\\omega^{\\frac{7}{2}} \\left(\\lambda^{2} - 8\\right)^{2}} - \\frac{196}{\\omega^{2} \\left(\\lambda^{2} - 8\\right)^{2}} - \\frac{392 i p_{1} q_{1}}{\\omega^{3} \\left(\\lambda^{2} - 8\\right)^{2}} + \\frac{147 p_{1}^{4}}{\\omega^{4} \\left(\\lambda^{2} - 8\\right)^{2}} + \\frac{588 i p_{1}^{3} q_{1}}{\\omega^{4} \\left(\\lambda^{2} - 8\\right)^{2}} - \\frac{882 p_{1}^{2} q_{1}^{2}}{\\omega^{4} \\left(\\lambda^{2} - 8\\right)^{2}} - \\frac{588 i p_{1} q_{1}^{3}}{\\omega^{4} \\left(\\lambda^{2} - 8\\right)^{2}} + \\frac{147 q_{1}^{4}}{\\omega^{4} \\left(\\lambda^{2} - 8\\right)^{2}} - \\frac{98 \\sqrt{2} i p_{1}^{3}}{\\omega^{\\frac{7}{2}} \\left(\\lambda^{2} - 8\\right)^{2}} + \\frac{294 \\sqrt{2} p_{1}^{2} q_{1}}{\\omega^{\\frac{7}{2}} \\left(\\lambda^{2} - 8\\right)^{2}} + \\frac{294 \\sqrt{2} i p_{1} q_{1}^{2}}{\\omega^{\\frac{7}{2}} \\left(\\lambda^{2} - 8\\right)^{2}} - \\frac{98 \\sqrt{2} q_{1}^{3}}{\\omega^{\\frac{7}{2}} \\left(\\lambda^{2} - 8\\right)^{2}}$$"
      ],
      "text/plain": [
       "      2     4            2     3              2     2     2           2       \n",
       "1029⋅λ ⋅p[2]     1029⋅ⅈ⋅λ ⋅p[2] ⋅q[2]   3087⋅λ ⋅p[2] ⋅q[2]    1029⋅ⅈ⋅λ ⋅p[2]⋅q\n",
       "────────────── + ──────────────────── - ─────────────────── - ────────────────\n",
       "             3                  3                       3                    3\n",
       "   4 ⎛ 2    ⎞         4 ⎛ 2    ⎞              4 ⎛ 2    ⎞           4 ⎛ 2    ⎞ \n",
       "4⋅ω ⋅⎝λ  - 8⎠        ω ⋅⎝λ  - 8⎠           2⋅ω ⋅⎝λ  - 8⎠          ω ⋅⎝λ  - 8⎠ \n",
       "\n",
       "   3         2     4                                  2     2               2 \n",
       "[2]    1029⋅λ ⋅q[2]     392⋅ⅈ⋅λ⋅p[2]⋅q[2]   294⋅λ⋅p[1] ⋅p[2]    588⋅ⅈ⋅λ⋅p[1] ⋅\n",
       "──── + ────────────── - ───────────────── + ───────────────── + ──────────────\n",
       "                    3                 2                   2                   \n",
       "          4 ⎛ 2    ⎞        3 ⎛ 2    ⎞          4 ⎛ 2    ⎞             4 ⎛ 2  \n",
       "       4⋅ω ⋅⎝λ  - 8⎠       ω ⋅⎝λ  - 8⎠         ω ⋅⎝λ  - 8⎠            ω ⋅⎝λ  -\n",
       "\n",
       "                      2     2                    2                            \n",
       "p[2]⋅q[2]   294⋅λ⋅p[1] ⋅q[2]    588⋅ⅈ⋅λ⋅p[1]⋅p[2] ⋅q[1]   1176⋅λ⋅p[1]⋅p[2]⋅q[1\n",
       "───────── - ───────────────── + ─────────────────────── - ────────────────────\n",
       "   2                      2                      2                          2 \n",
       "  ⎞             4 ⎛ 2    ⎞             4 ⎛ 2    ⎞                 4 ⎛ 2    ⎞  \n",
       " 8⎠            ω ⋅⎝λ  - 8⎠            ω ⋅⎝λ  - 8⎠                ω ⋅⎝λ  - 8⎠  \n",
       "\n",
       "                               2             2     2                    2     \n",
       "]⋅q[2]   588⋅ⅈ⋅λ⋅p[1]⋅q[1]⋅q[2]    294⋅λ⋅p[2] ⋅q[1]    588⋅ⅈ⋅λ⋅p[2]⋅q[1] ⋅q[2]\n",
       "────── - ─────────────────────── - ───────────────── - ───────────────────────\n",
       "                          2                      2                      2     \n",
       "                4 ⎛ 2    ⎞             4 ⎛ 2    ⎞             4 ⎛ 2    ⎞      \n",
       "               ω ⋅⎝λ  - 8⎠            ω ⋅⎝λ  - 8⎠            ω ⋅⎝λ  - 8⎠      \n",
       "\n",
       "             2     2                       2                                  \n",
       "   294⋅λ⋅q[1] ⋅q[2]    147⋅√2⋅ⅈ⋅λ⋅p[1]⋅p[2]    294⋅√2⋅λ⋅p[1]⋅p[2]⋅q[2]   147⋅√\n",
       " + ───────────────── - ───────────────────── + ─────────────────────── + ─────\n",
       "                 2                      2                        2            \n",
       "       4 ⎛ 2    ⎞           7/2 ⎛ 2    ⎞             7/2 ⎛ 2    ⎞             \n",
       "      ω ⋅⎝λ  - 8⎠          ω   ⋅⎝λ  - 8⎠            ω   ⋅⎝λ  - 8⎠            ω\n",
       "\n",
       "               2                2                                             \n",
       "2⋅ⅈ⋅λ⋅p[1]⋅q[2]    147⋅√2⋅λ⋅p[2] ⋅q[1]   294⋅√2⋅ⅈ⋅λ⋅p[2]⋅q[1]⋅q[2]   147⋅√2⋅λ⋅\n",
       "──────────────── + ─────────────────── + ───────────────────────── - ─────────\n",
       "            2                      2                        2                 \n",
       "7/2 ⎛ 2    ⎞           7/2 ⎛ 2    ⎞             7/2 ⎛ 2    ⎞             7/2 ⎛\n",
       "   ⋅⎝λ  - 8⎠          ω   ⋅⎝λ  - 8⎠            ω   ⋅⎝λ  - 8⎠            ω   ⋅⎝\n",
       "\n",
       "         2                                             4               3      \n",
       "q[1]⋅q[2]        196        392⋅ⅈ⋅p[1]⋅q[1]    147⋅p[1]      588⋅ⅈ⋅p[1] ⋅q[1] \n",
       "────────── - ──────────── - ─────────────── + ──────────── + ──────────────── \n",
       "       2                2                2               2                2   \n",
       " 2    ⎞       2 ⎛ 2    ⎞       3 ⎛ 2    ⎞      4 ⎛ 2    ⎞       4 ⎛ 2    ⎞    \n",
       "λ  - 8⎠      ω ⋅⎝λ  - 8⎠      ω ⋅⎝λ  - 8⎠     ω ⋅⎝λ  - 8⎠      ω ⋅⎝λ  - 8⎠    \n",
       "\n",
       "          2     2                  3            4                 3           \n",
       "  882⋅p[1] ⋅q[1]    588⋅ⅈ⋅p[1]⋅q[1]     147⋅q[1]      98⋅√2⋅ⅈ⋅p[1]     294⋅√2⋅\n",
       "- ─────────────── - ──────────────── + ──────────── - ────────────── + ───────\n",
       "               2                 2                2                2          \n",
       "     4 ⎛ 2    ⎞        4 ⎛ 2    ⎞       4 ⎛ 2    ⎞     7/2 ⎛ 2    ⎞       7/2 \n",
       "    ω ⋅⎝λ  - 8⎠       ω ⋅⎝λ  - 8⎠      ω ⋅⎝λ  - 8⎠    ω   ⋅⎝λ  - 8⎠      ω   ⋅\n",
       "\n",
       "    2                          2              3  \n",
       "p[1] ⋅q[1]   294⋅√2⋅ⅈ⋅p[1]⋅q[1]     98⋅√2⋅q[1]   \n",
       "────────── + ─────────────────── - ──────────────\n",
       "        2                    2                  2\n",
       "⎛ 2    ⎞         7/2 ⎛ 2    ⎞       7/2 ⎛ 2    ⎞ \n",
       "⎝λ  - 8⎠        ω   ⋅⎝λ  - 8⎠      ω   ⋅⎝λ  - 8⎠ "
      ]
     },
     "execution_count": 6,
     "metadata": {},
     "output_type": "execute_result"
    }
   ],
   "source": [
    "ham.rescale()\n",
    "ham.coeff_subs([(a, (8-l*l)/(4*l*l-4))])\n",
    "ham.rotate45()"
   ]
  },
  {
   "cell_type": "markdown",
   "metadata": {},
   "source": [
    "Now we are able to calculate Birkhoff normal form.\n",
    "\n",
    "Substitute the above `Hamiltonian` to a class `LieTransform`"
   ]
  },
  {
   "cell_type": "code",
   "execution_count": 7,
   "metadata": {},
   "outputs": [
    {
     "name": "stdout",
     "output_type": "stream",
     "text": [
      "Initialized\n",
      "do exec() and calculate normal form\n",
      "Lie transform completed!!\n",
      "do normalform() to print normal form of input Hamiltonian\n"
     ]
    }
   ],
   "source": [
    "birkhoff = Birkhoff.LieTransform.fromHamiltonian(ham)\n",
    "birkhoff.exec()"
   ]
  },
  {
   "cell_type": "markdown",
   "metadata": {},
   "source": [
    "Run `normalform()` and you will see Birkhoff normal form!!"
   ]
  },
  {
   "cell_type": "code",
   "execution_count": 8,
   "metadata": {},
   "outputs": [
    {
     "data": {
      "image/png": "[encoded data removed]",
      "text/latex": [
       "$$- \\frac{441 \\lambda^{2} \\left(8 \\lambda^{4} - 95 \\lambda^{2} + 31\\right) \\tau_{2}^{2}}{2 \\omega^{4} \\left(2 \\lambda - 1\\right) \\left(2 \\lambda + 1\\right) \\left(\\lambda^{2} - 8\\right)^{3}} + \\frac{392 \\lambda \\tau_{2}}{\\omega^{3} \\left(\\lambda^{2} - 8\\right)^{2}} - \\frac{588 \\lambda \\left(7 \\lambda^{2} - 1\\right) \\tau_{1} \\tau_{2}}{\\omega^{4} \\left(2 \\lambda - 1\\right) \\left(2 \\lambda + 1\\right) \\left(\\lambda^{2} - 8\\right)^{2}} + \\frac{392 \\tau_{1}}{\\omega^{3} \\left(\\lambda^{2} - 8\\right)^{2}} - \\frac{588 \\tau_{1}^{2}}{\\omega^{4} \\left(\\lambda^{2} - 8\\right)^{2}}$$"
      ],
      "text/plain": [
       "       2 ⎛   4       2     ⎞       2                         ⎛   2    ⎞       \n",
       "  441⋅λ ⋅⎝8⋅λ  - 95⋅λ  + 31⎠⋅tau[2]    392⋅λ⋅tau[2]    588⋅λ⋅⎝7⋅λ  - 1⎠⋅tau[1]\n",
       "- ────────────────────────────────── + ──────────── - ────────────────────────\n",
       "                                   3              2                           \n",
       "     4                     ⎛ 2    ⎞     3 ⎛ 2    ⎞     4                     ⎛\n",
       "  2⋅ω ⋅(2⋅λ - 1)⋅(2⋅λ + 1)⋅⎝λ  - 8⎠    ω ⋅⎝λ  - 8⎠    ω ⋅(2⋅λ - 1)⋅(2⋅λ + 1)⋅⎝\n",
       "\n",
       "                                    2 \n",
       "⋅tau[2]     392⋅tau[1]    588⋅tau[1]  \n",
       "──────── + ──────────── - ────────────\n",
       "       2              2              2\n",
       " 2    ⎞     3 ⎛ 2    ⎞     4 ⎛ 2    ⎞ \n",
       "λ  - 8⎠    ω ⋅⎝λ  - 8⎠    ω ⋅⎝λ  - 8⎠ "
      ]
     },
     "execution_count": 8,
     "metadata": {},
     "output_type": "execute_result"
    }
   ],
   "source": [
    "birkhoff.normalform()"
   ]
  },
  {
   "cell_type": "code",
   "execution_count": null,
   "metadata": {},
   "outputs": [],
   "source": []
  }
 ],
 "metadata": {
  "kernelspec": {
   "display_name": "Python 3",
   "language": "python",
   "name": "python3"
  },
  "language_info": {
   "codemirror_mode": {
    "name": "ipython",
    "version": 3
   },
   "file_extension": ".py",
   "mimetype": "text/x-python",
   "name": "python",
   "nbconvert_exporter": "python",
   "pygments_lexer": "ipython3",
   "version": "3.7.0"
  }
 },
 "nbformat": 4,
 "nbformat_minor": 2
}
